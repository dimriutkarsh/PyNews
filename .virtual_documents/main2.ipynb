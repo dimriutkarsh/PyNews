from bs4 import BeautifulSoup
import pandas as pd

# Load local HTML
with open("htmls/page1.html", "r", encoding="utf-8") as file:
    soup = BeautifulSoup(file.read(), "html.parser")

# Step 1: Find all h3 tags
h3_tags = soup.find_all("h3")

news_data = []

# Step 2: Get <a> inside <h3> only
for h3 in h3_tags:
    a_tag = h3.find("a")
    if a_tag:
        title = a_tag.get_text(strip=True)
        link = a_tag.get("href")
        if link and not link.startswith("http"):
            link = "https://www.news18.com" + link
        news_data.append([title, link])

# Step 3: Create DataFrame and save
df = pd.DataFrame(news_data, columns=["Title", "Link"])
df.to_csv("news18_headlines_h3.csv", index=False, encoding="utf-8")

df.head()



print("initializing Your Project........")

import pywhatkit as kit
import pandas as pd
import datetime


df = pd.read_csv("news18_headlines_h3.csv")
random_news = df.sample(5)


message = "📰 *Top News Headlines:*\n\n"
for i, row in random_news.iterrows():
    message += f"{i+1}. {row['Title']}\n🔗 {row['Link']}\n\n"

your_number = "+917983026262"

# Send the message instantly (wait_time controls loading delay)
kit.sendwhatmsg_instantly(your_number, message, wait_time=15, tab_close=True)



import pandas as pd
import random
import pyttsx3

# Load headlines
df = pd.read_csv("news18_headlines_h3.csv")
sample = df.sample(5)

# Create voice text
voice_text = "Today's top five news headlines are: "
for i, row in enumerate(sample.itertuples(), 1):
    voice_text += f"{i}. {row.Title}. "

# Convert to voice using pyttsx3
engine = pyttsx3.init()
engine.setProperty('rate', 150)  # Speech speed

# Save to audio file
engine.save_to_file(voice_text, 'news_voice_offline.mp3')
engine.runAndWait()

print("✅ Saved offline voice as 'news_voice_offline.mp3'")



from selenium import webdriver
from selenium.webdriver.common.by import By
from selenium.webdriver.common.keys import Keys
from selenium.webdriver.support.ui import WebDriverWait
from selenium.webdriver.support import expected_conditions as EC
from selenium.webdriver.chrome.options import Options
from selenium.webdriver.chrome.service import Service
from webdriver_manager.chrome import ChromeDriverManager
import time

def send_mp3_whatsapp(phone_number, file_path, message=""):
    # Setup Chrome options
    chrome_options = Options()
    chrome_options.add_argument("--no-sandbox")
    chrome_options.add_argument("--disable-dev-shm-usage")
    chrome_options.add_argument("--disable-gpu")
    chrome_options.add_argument("--remote-debugging-port=9222")
    
    # Use webdriver-manager to automatically handle ChromeDriver
    service = Service(ChromeDriverManager().install())
    
    try:
        driver = webdriver.Chrome(service=service, options=chrome_options)
        driver.get("https://web.whatsapp.com")
        
        print("Please scan the QR code...")
        input("Press Enter after scanning QR code and WhatsApp Web loads completely...")
        
        # Wait for WhatsApp to load completely
        WebDriverWait(driver, 30).until(
            EC.presence_of_element_located((By.XPATH, "//div[@contenteditable='true'][@data-tab='3']"))
        )
        
        # Search for contact
        search_box = driver.find_element(By.XPATH, "//div[@contenteditable='true'][@data-tab='3']")
        search_box.click()
        search_box.clear()
        search_box.send_keys(phone_number)
        time.sleep(2)
        
        # Click on the contact
        contact = WebDriverWait(driver, 10).until(
            EC.element_to_be_clickable((By.XPATH, f"//span[@title='{phone_number}']"))
        )
        contact.click()
        
        time.sleep(2)
        
        # Click attachment button
        attach_btn = WebDriverWait(driver, 10).until(
            EC.element_to_be_clickable((By.XPATH, "//div[@title='Attach']"))
        )
        attach_btn.click()
        
        # Click document option
        doc_input = WebDriverWait(driver, 10).until(
            EC.presence_of_element_located((By.XPATH, "//input[@accept='*']"))
        )
        doc_input.send_keys(file_path)
        
        time.sleep(5)  # Wait for file to upload
        
        # Add caption if provided
        if message:
            try:
                caption_box = driver.find_element(By.XPATH, "//div[@contenteditable='true'][@data-tab='10']")
                caption_box.send_keys(message)
            except:
                print("Could not add caption, but file will be sent")
        
        # Click send button
        send_btn = WebDriverWait(driver, 15).until(
            EC.element_to_be_clickable((By.XPATH, "//span[@data-icon='send']"))
        )
        send_btn.click()
        
        print("File sent successfully!")
        time.sleep(3)
        
    except Exception as e:
        print(f"Error occurred: {e}")
        print("Please try the manual method below")
        
    finally:
        if 'driver' in locals():
            driver.quit()

# Alternative Method: Manual sending with automation help
def open_whatsapp_for_manual_send(phone_number):
    chrome_options = Options()
    chrome_options.add_argument("--no-sandbox")
    service = Service(ChromeDriverManager().install())
    
    try:
        driver = webdriver.Chrome(service=service, options=chrome_options)
        driver.get("https://web.whatsapp.com")
        
        print("Please scan the QR code...")
        input("Press Enter after scanning QR code...")
        
        # Search for contact
        search_box = WebDriverWait(driver, 30).until(
            EC.presence_of_element_located((By.XPATH, "//div[@contenteditable='true'][@data-tab='3']"))
        )
        search_box.click()
        search_box.send_keys(phone_number)
        time.sleep(2)
        search_box.send_keys(Keys.ENTER)
        
        print(f"Chat opened with {phone_number}")
        print("Now manually:")
        print("1. Click the attachment (📎) button")
        print("2. Select 'Document'")
        print("3. Choose your MP3 file")
        print("4. Add caption if needed")
        print("5. Press Send")
        
        input("Press Enter when done to close browser...")
        
    except Exception as e:
        print(f"Error: {e}")
    finally:
        if 'driver' in locals():
            driver.quit()

if __name__ == "__main__":
    phone_number = "+917983026262"
    file_path = r"C:\Users\Utkarsh Dimri\OneDrive\Desktop\pynews\news_voice_offline.mp3"
    message = "Here's the audio file"
    
    print("Choose method:")
    print("1. Automatic sending (may have compatibility issues)")
    print("2. Semi-automatic (opens chat, you send manually)")
    
    choice = input("Enter choice (1 or 2): ")
    
    if choice == "1":
        send_mp3_whatsapp(phone_number, file_path, message)
    else:
        open_whatsapp_for_manual_send(phone_number)


import pywhatkit
import os

# Send media file
pywhatkit.sendwhats_image(
    phone_no="+917983026262",  # Include country code
    img_path=r"C:\Users\Utkarsh Dimri\OneDrive\Desktop\pynews/news_voice_offline.mp3",
    caption="Here's your audio file!",
    wait_time=20,
    tab_close=True
)




