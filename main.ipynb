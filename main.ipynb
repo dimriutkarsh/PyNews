{
 "cells": [
  {
   "cell_type": "code",
   "execution_count": 28,
   "id": "1523bbef-b7aa-416b-acb9-94e71e24cbf5",
   "metadata": {},
   "outputs": [],
   "source": [
    "import requests\n",
    "import pandas as pd\n",
    "import numpy as np"
   ]
  },
  {
   "cell_type": "code",
   "execution_count": 29,
   "id": "eb025268-650a-4cf9-a4d7-44fab3905eda",
   "metadata": {},
   "outputs": [
    {
     "name": "stdout",
     "output_type": "stream",
     "text": [
      "DOWNLOADED PAGE SUCCESSFULLY!\n"
     ]
    }
   ],
   "source": [
    "a= requests.get(\"https://www.news18.com/\")\n",
    "with open (f\"htmls/page1.html\",\"w\",encoding=\"utf-8\") as f:\n",
    "    f.write(a.text)\n",
    "    print(f\"DOWNLOADED PAGE SUCCESSFULLY!\")"
   ]
  },
  {
   "cell_type": "code",
   "execution_count": 30,
   "id": "8a4c5033-c4c5-4fe3-a101-ef1635dccf19",
   "metadata": {},
   "outputs": [],
   "source": [
    "from bs4 import BeautifulSoup\n",
    "\n",
    "with open(\"htmls/page1.html\", \"r\", encoding=\"utf-8\") as file:\n",
    "    html_content = file.read()\n"
   ]
  },
  {
   "cell_type": "code",
   "execution_count": 31,
   "id": "cf59d4e9-01db-410f-8068-1e65c4c9b826",
   "metadata": {},
   "outputs": [
    {
     "data": {
      "text/plain": [
       "'Top News'"
      ]
     },
     "execution_count": 31,
     "metadata": {},
     "output_type": "execute_result"
    }
   ],
   "source": [
    "soup = BeautifulSoup(html_content,\"html.parser\")\n",
    "soup.h1.text"
   ]
  },
  {
   "cell_type": "code",
   "execution_count": 32,
   "id": "90e64217-06c7-4855-9353-a4411033b247",
   "metadata": {},
   "outputs": [
    {
     "data": {
      "text/plain": [
       "[]"
      ]
     },
     "execution_count": 32,
     "metadata": {},
     "output_type": "execute_result"
    }
   ],
   "source": [
    "articles = soup.find_all(\"a\", class_=\"jsx-6cc628dcbd17db93\")\n",
    "articles"
   ]
  },
  {
   "cell_type": "code",
   "execution_count": 33,
   "id": "fb4b6ea7-da47-4228-be38-3c69696ef84c",
   "metadata": {},
   "outputs": [
    {
     "name": "stdout",
     "output_type": "stream",
     "text": [
      "[['हिन्दी(Hindi)', 'https://hindi.news18.com/'], ['বাংলা(Bengali)', 'https://bengali.news18.com/'], ['मराठी(Marathi)', 'https://news18marathi.com/'], ['ગુજરાતી(Gujarati)', 'https://gujarati.news18.com/'], ['ಕನ್ನಡ(Kannada)', 'https://kannada.news18.com/'], ['தமிழ்(Tamil)', 'https://tamil.news18.com/'], ['മലയാളം(Malayalam)', 'https://malayalam.news18.com/'], ['తెలుగు(Telugu)', 'https://telugu.news18.com/'], ['ਪੰਜਾਬੀ(Punjabi)', 'https://punjab.news18.com/'], ['اردو(Urdu)', 'https://urdu.news18.com/'], ['অসমীয়া(Assam)', 'https://assam.news18.com/'], ['ଓଡ଼ିଆ(Odia)', 'https://odia.news18.com/'], ['Home', 'https://www.news18.com/'], ['Latest', 'https://www.news18.com/news/'], ['Movies', 'https://www.news18.com/movies/'], ['Bollywood', 'https://www.news18.com/movies/bollywood/'], ['Hollywood', 'https://www.news18.com/movies/hollywood/'], ['Telugu Movies', 'https://www.news18.com/movies/telugu-cinema/'], ['Tamil Movies', 'https://www.news18.com/movies/tamil-cinema/'], ['Web Series', 'https://www.news18.com/movies/web-series/'], ['TV', 'https://www.news18.com/movies/television/'], ['Regional', 'https://www.news18.com/movies/regional-cinema/'], ['Movie Reviews', 'https://www.news18.com/movies/movie-reviews/'], ['Photos', 'https://www.news18.com/movies/photos/'], ['Cricket', 'https://www.news18.com/cricket/'], ['India vs England', 'https://www.news18.com/cricket/series/india-vs-england-2025.html'], ['Live Score', 'https://www.news18.com/cricket/live-score/'], ['News', 'https://www.news18.com/cricket/latestnews/'], ['Schedule', 'https://www.news18.com/cricket/cricket-schedule/'], ['Results', 'https://www.news18.com/cricket/results/'], ['Test', 'https://www.news18.com/cricket/test-ranking.html'], ['Test', 'https://www.news18.com/cricket/test-ranking.html'], ['ODI', 'https://www.news18.com/cricket/odi-ranking.html'], ['T20', 'https://www.news18.com/cricket/t20-ranking.html'], ['Photos', 'https://www.news18.com/cricket/photogallery/'], ['Videos', 'https://www.news18.com/cricket/videos/'], ['India', 'https://www.news18.com/india/'], ['Web Stories', 'https://www.news18.com/web-stories/'], ['Lifestyle', 'https://www.news18.com/lifestyle/'], ['Health and Fitness', 'https://www.news18.com/lifestyle/health-and-fitness/'], ['Food', 'https://www.news18.com/lifestyle/food/'], ['Travel', 'https://www.news18.com/lifestyle/travel/'], ['Fashion', 'https://www.news18.com/topics/fashion/'], ['Sex and Relationships', 'https://www.news18.com/topics/sex-and-relationships/'], ['Art and Culture', 'https://www.news18.com/topics/art-and-culture/'], ['Viral', 'https://www.news18.com/viral/'], ['World', 'https://www.news18.com/world/'], ['Videos', 'https://www.news18.com/videos/'], ['Business', 'https://www.news18.com/business/'], ['Markets', 'https://www.news18.com/business/markets/'], ['Savings And Investments', 'https://www.news18.com/business/savings-and-investments/'], ['Tax', 'https://www.news18.com/business/tax/'], ['IPO', 'https://www.news18.com/business/ipo/'], ['Banking Finance', 'https://www.news18.com/business/banking-finance/'], ['Real Estate', 'https://www.news18.com/business/real-estate/'], ['Economy', 'https://www.news18.com/business/economy/'], ['IFSC Codes', 'https://www.news18.com/ifsc-code/'], ['Education', 'https://www.news18.com/education-career/'], ['City News', 'https://www.news18.com/cities/'], ['City News', 'https://www.news18.com/cities/'], ['Delhi News', 'https://www.news18.com/cities/new-delhi-news/'], ['Mumbai News', 'https://www.news18.com/cities/mumbai-news/'], ['Bengaluru News', 'https://www.news18.com/cities/bengaluru-news/'], ['Hyderabad News', 'https://www.news18.com/cities/hyderabad-news/'], ['Chennai News', 'https://www.news18.com/cities/chennai-news/'], ['Kolkata News', 'https://www.news18.com/cities/kolkata-news/'], ['Lucknow News', 'https://www.news18.com/cities/lucknow-news/'], ['Patna News', 'https://www.news18.com/cities/patna-news/'], ['Politics', 'https://www.news18.com/politics/'], ['Showsha', 'https://www.news18.com/entertainment/'], ['Exclusives', 'https://www.news18.com/topics/showsha-exclusives/'], ['Opinion', 'https://www.news18.com/opinion/'], ['Explainers', 'https://www.news18.com/explainers/'], ['Podcast', 'https://www.news18.com/podcast/'], ['Movie Reviews', 'https://www.news18.com/entertainment/movie-reviews/'], ['Sports', 'https://www.news18.com/sports/'], ['Elections', 'https://www.news18.com/elections/'], ['Photos', 'https://www.news18.com/photogallery/'], ['Tech', 'https://www.news18.com/tech/'], ['Auto', 'https://www.news18.com/auto/'], ['ISL', 'https://www.news18.com/football/indian-super-league/'], ['EPL', 'https://www.news18.com/football/epl-english-premier-league/'], ['Breaking News', 'https://www.news18.com/breaking-news/'], ['Astrology', 'https://www.news18.com/astrology/'], ['Studio 18', 'https://www.news18.com/studio18/'], ['Indian Of The Year', 'https://www.news18features.com/indianoftheyear/'], ['Indian Of The Year', 'https://www.news18features.com/indianoftheyear/'], ['Check Credit Score', 'https://www.moneycontrol.com/credit-score?utm_source=News18English&utm_medium=Email&utm_campaign=CBEnglish'], ['Mission Paani', 'https://www.news18features.com/missionswachhtapaani/'], ['Hydration for health', 'https://www.news18features.com/electralhydrationforhealth/'], ['#NiveshkaSahiKadam', 'https://www.news18features.com/niveshkasahikadam/'], ['Sustainable is Attainable', 'https://www.news18features.com/sustainable-is-attainable-news18-and-tata-power-initiative/'], ['Moneycontrol', 'https://www.moneycontrol.com/'], ['Moneycontrol', 'https://www.moneycontrol.com/'], ['Firstpost', 'https://www.firstpost.com/'], ['CNBCTV18', 'https://www.cnbctv18.com/'], ['History India', 'https://www.historyindia.com/'], ['MTV India', 'https://www.mtvindia.com/'], ['About Us', 'https://www.news18.com/about_us/'], ['About Us', 'https://www.news18.com/about_us/'], ['Cookie Policy', 'https://www.news18.com/cookie-policy.html'], ['Disclaimer', 'https://www.news18.com/disclaimer/'], ['Contact Us', 'https://www.news18.com/contact-us.html'], ['RSS', 'https://www.news18.com/rss/'], ['Complaint Redressal', 'https://www.news18.com/complaint/'], ['Advertise with Us', 'https://www.news18.com/advertise-with-us.html'], ['Sitemap', 'https://www.news18.com/sitemap/'], ['Privacy Policy', 'https://www.news18.com/privacy_policy/'], ['Ind Vs Eng Live', 'https://www.news18.com/cricket/ind-vs-eng-live-score-india-vs-england-4th-test-match-day-1-cricket-scorecard-manchester-latest-news-liveblog-9457725.html'], ['Boney Kapoor Weight Loss', 'https://www.news18.com/movies/bollywood/boney-kapoor-loses-26-kgs-undergoes-drastic-physical-transformation-pics-viral-9456998.html'], ['Tanushree Dutta Allegations', 'https://www.news18.com/movies/bollywood/tanushree-dutta-makes-shocking-allegations-claims-bollywood-mafia-threat-like-sushant-singh-rajput-ws-l-9458456.html'], [\"Shastri's Top Cricketers\", 'https://www.news18.com/cricket/no-rahul-dravid-sourav-ganguly-and-anil-kumble-ravi-shastri-names-5-greatest-indian-cricketers-of-all-time-ws-l-9455498.html'], [\"Infosys Freshers' Salary\", 'https://www.news18.com/photogallery/business/infosys-starting-salary-for-freshers-in-2025-ws-l-9453704.html'], ['‘Diplomat’ Of Nowhere: How One Man Turned A Ghaziabad Bungalow Into A Fake Embassy', 'https://www.news18.com/india/diplomat-of-nowhere-how-one-man-turned-a-ghaziabad-bungalow-into-a-fake-embassy-ws-l-9458443.html'], [\"IndiGo Flight From Ahmedabad Catches Fire Before Takeoff, Pilot Sends 'Mayday' Call To ATC\", 'https://www.news18.com/india/indigo-flight-from-ahmedabad-engine-catches-fire-just-before-takeoff-aborted-diu-probe-9458547.html'], ['India Vs England Live Score Updates, 4th Test Day 1:\\xa0IND 78/0 At Lunch, KL Rahul Batting On 40', 'https://www.news18.com/cricket/ind-vs-eng-live-score-india-vs-england-4th-test-match-day-1-cricket-scorecard-manchester-latest-news-liveblog-9457725.html'], [\"Tanushree Dutta Makes SHOCKING Allegations, Claims 'Bollywood Mafia Threat Like Sushant Singh Rajput'\", 'https://www.news18.com/movies/bollywood/tanushree-dutta-makes-shocking-allegations-claims-bollywood-mafia-threat-like-sushant-singh-rajput-ws-l-9458456.html'], [\"'Positive Move': India Set To Resume Tourist Visas For Chinese Citizens, Beijing Reacts\", 'https://www.news18.com/india/india-to-resume-issuing-tourist-visas-to-chinese-nationals-9457792.html'], ['Parliament Set To Discuss Operation Sindoor Next Week, PM Modi Likely To Intervene', 'https://www.news18.com/india/operation-sindoor-debate-scheduled-in-rajya-sabha-for-july-29-16-hours-allocated-9458141.html'], [\"Who Is Anshul Kamboj? All You Need To Know About India's 318th Test Cricketer\", 'https://www.news18.com/cricket/who-is-anshul-kamboj-all-you-need-to-know-about-indias-318th-test-cricketer-ws-l-9458351.html'], ['How Harshvardhan Jain, ‘Ambassador Of Westarctica’, Became The Ultimate Con Star Of Ghaziabad', 'https://www.news18.com/india/ghaziabad-fake-embassy-of-westarctica-busted-harshvardhan-jain-was-operating-it-from-kavi-nagar-ws-kl-9458774.html'], [\"UK Woman Dies After Being Licked By Granddaughter's Dog: Here's What Happened\", 'https://www.news18.com/world/uk-woman-dies-after-being-licked-by-granddaughters-dog-heres-what-happened-ws-l-9458813.html'], ['Boney Kapoor Loses 26 Kgs, Undergoes Drastic Physical Transformation; Pics Viral', 'https://www.news18.com/movies/bollywood/boney-kapoor-loses-26-kgs-undergoes-drastic-physical-transformation-pics-viral-9456998.html'], ['7-Month-Old Girl ‘Offered For Sex’ By Mother For Rs 35,000. Snapchat Flags ‘Pay Half Now...’ Deal', 'https://www.news18.com/viral/rs-35000-seven-month-old-girl-offered-for-sex-by-mother-snapchat-flags-deal-9458411.html'], ['Infosys Q1 Results: Net Profit Rises 8.7% YoY To Rs 6,921 Crore, Revenue Up 7.5%', 'https://www.news18.com/business/infosys-q1-results-net-profit-rises-8-7-yoy-to-rs-6921-crore-falls-1-6-qoq-9458472.html'], ['China Bars Two US Citizens From Leaving: What Are Exit Bans And How Do They Work?', 'https://www.news18.com/explainers/china-bars-two-us-citizens-from-leaving-what-are-exit-bans-and-how-do-they-work-ws-l-9458576.html'], [\"Indian Student Hospitalised After Alleged Racist Attack In Adelaide: 'F**K off, Indian'\", 'https://www.news18.com/world/indian-student-hospitalised-after-alleged-racist-attack-in-adelaide-fk-off-indian-9457421.html'], ['‘Fans Would Need Ambulance’: Netizens Compare Saiyaara Craze With Tere Naam, Sadma', 'https://www.news18.com/viral/saiyaara-craze-compared-to-salman-khan-tere-naam-kamal-haasan-sadma-movies-ws-l-aa-aa-9458019.html'], ['Clothes, Jewellery, Scotch: How India-UK FTA Will Bring Cheers To These Sectors', 'https://www.news18.com/explainers/clothes-jewellery-scotch-how-india-uk-fta-will-bring-cheers-to-these-sectors-ws-dl-9457641.html'], ['KL Rahul Creates History, Becomes 2nd Indian Opener After Sunil Gavaskar To...', 'https://www.news18.com/cricket/kl-rahul-creates-history-becomes-2nd-indian-opener-after-sunil-gavaskar-to-ws-l-9458708.html'], ['First Time In 93 Years! India Playing A Test Match With...', 'https://www.news18.com/cricket/first-time-in-93-years-india-playing-a-test-match-with-5-left-handed-batters-ws-l-9458610.html'], ['KL Rahul Joins Tendulkar & Gavaskar In Elite List, Becomes 4th Indian To...', 'https://www.news18.com/cricket/kl-rahul-joins-tendulkar-gavaskar-in-elite-list-becomes-4th-indian-to-ws-l-9458421.html'], ['India Lose 14th Toss In A Row; Odds Of That Happening Is 16,384/1', 'https://www.news18.com/cricket/india-lose-14th-toss-in-a-row-odds-of-that-happening-is-16384-1-ws-l-9458494.html'], ['Europe’s Russian Energy Hypocrisy: Why Targeting India Rings Hollow', 'https://www.news18.com/podcast/news18-straight-talk/europe-s-russian-energy-hypocrisy-why-targeting-india-rings-hollow-9455782.html'], ['India Plays Hardball With ASEAN After $45B Trade Disaster', 'https://www.news18.com/podcast/news18-worldwise/india-plays-hardball-with-asean-after-45b-trade-disaster-9454958.html'], ['Test Cricket: Is There Beauty In Crisis?', 'https://www.news18.com/podcast/the-cn-podcast/test-cricket-is-there-beauty-in-crisis-9452564.html'], ['How India Cracked Trump’s Tariff Playbook — And Avoided Japan’s Mistakes', 'https://www.news18.com/podcast/news18-worldwise/how-india-cracked-trump-s-tariff-playbook-and-avoided-japan-s-mistakes-9446203.html'], [\"'I Killed Her': MP Man Strangles Partner, Her Daughter; Scribbles Message On Wall With Lipstick\", 'https://www.news18.com/india/madhya-pradesh-vidisha-man-kills-partner-daughter-writes-message-on-wall-with-lipstick-9458097.html'], ['Delhiites Swim, Boat On Waterlogged Roads After Rain; AAP Hits Out At BJP | Videos', 'https://www.news18.com/cities/new-delhi-news/delhi-rain-waterlogging-swim-boat-roads-aap-vs-bjp-videos-ws-l-9458012.html'], [\"Massive Fire Rips Through Aerosol Company Facility In Thane's Dombivli\", 'https://www.news18.com/india/massive-fire-rips-through-aerosol-company-facility-in-thanes-dombivli-ws-l-9458035.html'], ['SC Freezes Quick Arrests In Marriage Cruelty Cases, Bats For Two-Month ‘Cooling Period’', 'https://www.news18.com/india/sc-freezes-quick-arrests-in-marriage-cruelty-cases-bats-for-two-month-cooling-period-ws-kl-9458054.html'], ['PM Modi Departs For UK, Free Trade Deal Likely To Be Signed During Visit', 'https://www.news18.com/india/pm-modi-departs-for-uk-free-trade-deal-likely-to-be-signed-during-visit-9458009.html'], [\"Astronomer's HR Chief, Rum Heir Husband Took Huge Loan for $2.2 Million Home—What If They Divorce?\", 'https://www.news18.com/world/astronomers-hr-chief-rum-heir-husband-took-huge-loan-for-2-2-million-home-what-if-they-divorce-ws-kl-9457885.html'], ['‘F**k Off, Indian’: Australia’s Record Of Racial Abuse, Assaults & Stabbings Amid Attack On Student', 'https://www.news18.com/india/fk-off-indian-australias-record-of-racial-abuse-stabbings-amid-brutal-assault-on-charanpreet-ws-kl-9457793.html'], [\"'Weak Attempt At Distraction': Obama On Trump's Allegations Of Russian Interference In 2016 Polls\", 'https://www.news18.com/world/barack-obama-rejects-donald-trump-2016-us-election-treason-allegations-russia-did-not-manipulate-votes-9457208.html'], ['It Is Not Every Day You Get To See Sanya Malhotra Peel Onions', 'https://www.news18.com/movies/bollywood/it-is-not-every-day-you-get-to-see-sanya-malhotra-peel-onions-ws-l-aa-9458894.html'], [\"Brad Pitt-starrer 'F1' crosses Rs 100 crore mark at Indian box office\", 'https://www.news18.com/agency-feeds/brad-pitt-starrer-f1-crosses-rs-100-crore-mark-at-indian-box-office-9458966.html'], ['Bhagwan Mahaveer Foundation invites nominations for Awards', 'https://www.news18.com/agency-feeds/bhagwan-mahaveer-foundation-invites-nominations-for-awards-9458965.html'], ['3,438 SHGs formed to empower de-notified, nomadic communities: Govt', 'https://www.news18.com/agency-feeds/3438-shgs-formed-to-empower-de-notified-nomadic-communities-govt-9458963.html'], ['Kolkata Metro upgrades power sub-station from 11KV to 33KV', 'https://www.news18.com/agency-feeds/kolkata-metro-upgrades-power-sub-station-from-11kv-to-33kv-9458964.html'], ['Murderbaad Movie Review: Sharib Hashmi, Amole Gupte Shine In This Layered But Overly Ambitious Whodunit Film', 'https://www.news18.com/movies/bollywood/murderbaad-movie-review-sharib-hashmi-amole-gupte-shine-in-this-layered-but-overly-ambitious-whodunit-film-ws-l-9449755.html'], ['Saiyaara Review: Ahaan Panday And Aneet Padda’s Luminous Presence, Nuanced Performances Elevate This Bumpy Screenplay', 'https://www.news18.com/movies/bollywood/saiyaara-review-ahaan-panday-and-aneet-paddas-luminous-presence-nuanced-performances-elevate-this-bumpy-screenplay-ws-l-9448867.html'], ['Tanvi The Great Review: Anupam Kher And Shubhangi Dutt’s Honest Intent Falters Due To Uneven Execution', 'https://www.news18.com/movies/bollywood/tanvi-the-great-review-anupam-kher-and-shubhangi-dutts-honest-intent-falters-due-to-uneven-execution-ws-l-9447663.html'], [\"The Summer I Turned Pretty 3 Review: Lola Tung's Performance Is Beating Heart Of Final Season\", 'https://www.news18.com/movies/web-series/the-summer-i-turned-pretty-3-review-lola-tungs-performance-is-beating-heart-of-final-season-9445347.html'], ['ITR Filing 2025: How Are Debt Mutual Funds Taxed, How To Report Them In Your Income Tax Return?', 'https://www.news18.com/business/tax/itr-filing-2025-how-are-debt-mutual-funds-taxed-how-to-report-them-in-your-income-tax-return-9458771.html'], ['Infosys Q1 Results: Net Profit Rises 8.7% YoY To Rs 6,921 Crore, Revenue Up 7.5%', 'https://www.news18.com/business/infosys-q1-results-net-profit-rises-8-7-yoy-to-rs-6921-crore-falls-1-6-qoq-9458472.html'], ['ED Files Complaint Against Myntra Under FEMA For Flouting FDI Rules', 'https://www.news18.com/business/ed-flags-myntra-for-operating-multi-brand-retail-illegally-under-fdi-9458119.html'], ['GNG Electronics IPO Subscribed 7.55x On Day 1 So Far: Should You Apply? Check GMP, Price, Reviews', 'https://www.news18.com/business/ipo/gng-electronics-ipo-opens-today-should-you-apply-check-gmp-price-lot-size-subscription-reviews-9457620.html'], ['JAC Chandigarh Counselling 2025: Choice Filling Begins For Round 3, Check Schedule', 'https://www.news18.com/education-career/jac-chandigarh-counselling-2025-choice-filling-begins-for-round-3-check-schedule-9458345.html'], ['BSF Constable Tradesmen Recruitment 2025: Application For 3588 Posts To Begin On July 26', 'https://www.news18.com/education-career/bsf-constable-tradesmen-recruitment-2025-application-for-3588-posts-to-begin-on-july-26-9458151.html'], ['NEET UG 2025 Counselling: Over 1.15 Lakh MBBS Seats Available, Check Seat Matrix', 'https://www.news18.com/education-career/neet-ug-2025-counselling-over-1-15-lakh-mbbs-seats-available-check-seat-matrix-9458014.html'], ['Intern Vs Employer: Expectations, Gaps & What Internships Should Deliver', 'https://www.news18.com/lifestyle/intern-vs-employer-expectations-gaps-what-internships-should-deliver-9458170.html'], ['Tagore Statue, Bangladesh Hindus & More: TMC Tries To Corner BJP With Tough Questions In Parliament', 'https://www.news18.com/politics/tagore-statue-bangladesh-hindus-more-tmc-tries-to-corner-bjp-with-tough-questions-in-parliament-ws-dl-9457369.html'], [\"Jagdeep Dhankhar's Sudden Exit Evokes 'Congress's Compassion', But Here's Why TMC Is Unmoved\", 'https://www.news18.com/politics/jagdeep-dhankhars-sudden-exit-evokes-congresss-compassion-but-heres-why-tmc-is-unmoved-9456957.html'], [\"'Goodbye Comrade': Kerala Fills The Streets As Achuthanandan Begins His Final Journey\", 'https://www.news18.com/india/goodbye-comrade-vs-kerala-fills-the-streets-as-achuthanandan-begins-his-final-journey-ws-kl-9457010.html'], [\"'His Health Is Absolutely Fine': Is Mamata Banerjee Sceptical About Dhankhar's Resignation?\", 'https://www.news18.com/politics/his-health-is-absolutely-fine-is-mamata-banerjee-sceptical-about-dhankhars-resignation-ws-l-9456914.html'], ['Opinion | Looming Threat Of A Third World War', 'https://www.news18.com/opinion/opinion-looming-threat-of-a-third-world-war-ws-kl-9390566.html'], [\"PM Modi In Canada: India's Firm Diplomacy Pays Off As Carney Clears Up Trudeau's Mess\", 'https://www.news18.com/opinion/modi-in-canada-indias-firm-diplomacy-pays-off-as-carney-clears-up-trudeaus-mess-finepoint-ws-bl-9391336.html'], ['Opinion | Why Chopper Services In Pilgrim Spots Must Be Stopped', 'https://www.news18.com/opinion/opinion-why-chopper-services-in-pilgrim-spots-must-be-stopped-ws-kl-9390284.html'], ['Opinion: India Boosts Global Role With PM Modi’s Foreign Visits', 'https://www.news18.com/opinion/opinion-india-boosts-global-role-with-pm-modis-foreign-visits-ws-kl-9458858.html'], ['History Made! Shreyasi Joshi Becomes First Indian To Win Gold At Asian Roller Skating Championships', 'https://www.news18.com/sports/shreyasi-joshi-becomes-first-indian-to-win-gold-at-asian-roller-skating-championships-ws-l-9458531.html'], [\"'Fresh Hope': Karthi Selvam Hopes Euro Tour Will Open The Doors For India Comeback\", 'https://www.news18.com/sports/fresh-hope-karthi-selvam-hopes-euro-tour-will-open-the-doors-for-india-comeback-ws-dl-9457911.html'], [\"Liverpool Eyeing Rodrygo Amid Uncertainty Over Luis Diaz's Future\", 'https://www.news18.com/football/liverpool-eyeing-rodrygo-amid-uncertainty-over-luis-diazs-future-9457719.html'], [\"Sports Ministry Introduces National Anti-Doping Bill 2025 To Boost NADA's Autonomy\", 'https://www.news18.com/sports/sports-ministry-introduces-national-anti-doping-bill-2025-to-boost-nadas-autonomy-ws-l-9458809.html'], ['WhatsApp On Windows 11 PC Is Losing Native App Support: What Happens Now?', 'https://www.news18.com/tech/whatsapp-on-windows-11-pc-is-losing-native-app-support-what-happens-now-ws-l-9455828.html'], ['iPhone 17 Air Launch In September: Design, Specs And Price Expected', 'https://www.news18.com/tech/iphone-17-air-launch-in-september-design-specs-and-price-expected-ws-l-9456925.html'], [\"One Weak Password And Hackers Breach This UK Company's System: Know What Happened\", 'https://www.news18.com/tech/one-weak-password-and-hackers-breach-this-uk-companys-system-know-what-happened-ws-el-9455170.html'], ['Carens Clavis EV Bookings To Open From 22nd July, Check Details', 'https://www.news18.com/auto/carens-clavis-ev-bookings-to-open-from-22nd-july-check-details-9453957.html'], [\"Volvo XC60 Facelift To Launch In India On August 1, Here's List Of Expected Updates\", 'https://www.news18.com/auto/volvo-xc60-facelift-to-launch-in-india-on-august-1-heres-list-of-expected-updates-9453406.html'], [\"Delhi Metro: Why Riders Can't Exit At These 2 Stations Without A Special ID\", 'https://www.news18.com/auto/delhi-metro-why-riders-cant-exit-at-these-2-stations-without-a-special-id-ws-dkl-9453193.html'], ['Understanding Menopause-Like Symptoms In Women In Their 30s', 'https://www.news18.com/lifestyle/health-and-fitness/understanding-menopause-like-symptoms-in-women-in-their-30s-9457786.html'], ['Ozzy Osbourne Dies At 76 After Long Battle With Parkinson’s Disease: All You Need To Know About The Disease', 'https://www.news18.com/lifestyle/health-and-fitness/ozzy-osbourne-dies-at-76-after-long-battle-with-parkinsons-disease-9457738.html'], ['Beyond Brushing: Preventive Dental Care Techniques You Should Be Using', 'https://www.news18.com/lifestyle/health-and-fitness/beyond-brushing-preventive-dental-care-techniques-you-should-be-using-9457380.html'], ['Desk Jobs, Daily Deadlines And Diabetes At 32? Corporate Life Just Got Riskier', 'https://www.news18.com/lifestyle/health-and-fitness/desk-jobs-daily-deadlines-and-diabetes-at-32-corporate-life-just-got-riskier-9457359.html'], ['National Broadcasting Day 2025: India’s Radio Journey, Policies And Milestones', 'https://www.news18.com/lifestyle/national-broadcasting-day-2025-indias-radio-journey-policies-and-milestones-ws-e-9455268.html'], ['Happy Sawan Shivratri Wishes 2025: Top Quotes, Images, WhatsApp Status, Shravan Fasting Rules And What To Eat And Avoid', 'https://www.news18.com/lifestyle/sawan-shivratri-wishes-2025-top-wishes-quotes-images-whatsapp-status-shravan-fasting-rules-and-what-to-eat-and-avoid-during-vrat-ws-e-9455343.html'], ['Want To Work In Germany? This New Visa Lets You Stay For A Year For Just Rs 7,500', 'https://www.news18.com/lifestyle/travel/want-to-work-in-germany-this-new-visa-lets-you-stay-for-a-year-for-just-rs-7500-ws-el-9450135.html'], ['Kanika Kapoor’s Corseted Blush Look Was All About Soft, Feminine Power', 'https://www.news18.com/lifestyle/kanika-kapoors-corseted-blush-look-was-all-about-soft-feminine-power-ws-l-9456570.html'], ['IND vs ENG Live', 'https://www.news18.com/cricket/ind-vs-eng-live-score-india-vs-england-4th-test-match-day-1-cricket-scorecard-manchester-latest-news-liveblog-9457725.html'], ['Parliament Session Live', 'https://www.news18.com/india/parliament-monsoon-session-2025-live-updates-jagdeep-dhankhar-resignation-operation-sindoor-bihar-election-sir-lok-sabha-rajya-sabha-latest-news-today-liveblog-9457349.html'], ['Manchester Weather', 'https://www.news18.com/cricket/manchester-weather-forecast-live-updates-india-vs-england-4th-test-day-1-old-trafford-liveblog-9457330.html'], ['Mumbai Rains', 'https://www.news18.com/india/mumbai-rains-today-live-updates-mumbai-weather-report-rainfall-traffic-imd-alert-forecast-latest-news-liveblog-9457376.html'], ['Delhi Rains', 'https://www.news18.com/india/intense-rain-batters-delhi-ncr-imd-warns-of-more-showers-in-coming-days-ws-l-9457364.html'], ['DA Hike July 2025', 'https://www.news18.com/business/economy/da-hike-july-2025-central-government-employees-likely-to-receive-4-hike-in-dearness-allowance-9453783.html'], ['Indian Army Agniveer Result', 'https://www.news18.com/education-career/indian-army-agniveer-result-2025-where-and-how-to-check-results-once-out-9457445.html'], ['ITR Filing 2025', 'https://www.news18.com/business/tax/itr-filing-2025-why-checking-annual-information-statement-can-save-you-a-tax-notice-ws-l-9451732.html'], ['Top 10 Strongest Passports', 'https://www.news18.com/photogallery/lifestyle/top-10-strongest-passports-of-2025-indias-position-rises-to-77-ws-el-9457443.html'], ['School Holiday Today', 'https://www.news18.com/education-career/school-closed-today-july-23-holiday-in-many-districts-of-up-telangana-tamil-nadu-kerala-9457297.html'], ['GNG Electronics IPO', 'https://www.news18.com/business/ipo/gng-electronics-ipo-opens-today-should-you-apply-check-gmp-price-lot-size-subscription-reviews-9457620.html'], ['Dhankhar Resignation', 'https://www.news18.com/india/how-dhankhars-unannounced-visit-to-president-murmu-left-rashtrapati-bhavan-staff-off-guard-9457619.html'], ['Tanushree Dutta', 'https://www.news18.com/movies/bollywood/tanushree-dutta-cries-inconsolably-in-shocking-video-says-im-being-harassed-at-home-9456879.html'], ['Sawan Shivratri 2025', 'https://www.news18.com/lifestyle/sawan-shivratri-wishes-2025-top-wishes-quotes-images-whatsapp-status-shravan-fasting-rules-and-what-to-eat-and-avoid-during-vrat-ws-e-9455343.html'], ['Saiyaara Box Office', 'https://www.news18.com/movies/bollywood/saiyaara-box-office-day-5-ahaan-pandays-debut-beats-salman-khans-sikandar-earns-rs-130-cr-9456901.html'], ['Hari Hara Veera Mallu Release', 'https://www.news18.com/movies/regional-cinema/telangana-allows-price-hike-for-pawan-kalyans-hari-hara-veera-mallu-despite-pushpa-2-tragedy-ws-l-9456458.html'], ['Dilip Joshi', 'https://www.news18.com/movies/television/taarak-mehta-ka-ooltah-chashmah-dilip-joshi-attends-success-bash-dismisses-exit-rumours-ws-l-9457160.html'], ['IMDB Top 10 Films', 'https://www.news18.com/photogallery/movies/hollywood/imdb-top-picks-highest-rated-romantic-korean-films-ws-l-9457245.html'], ['OZZY Osbourne', 'https://www.news18.com/photogallery/movies/hollywood/ozzy-osbourne-no-more-rare-photos-of-the-godfather-of-heavy-metal-ws-l-9457168.html'], ['Ahaan Panday', 'https://www.news18.com/movies/bollywood/ahaan-panday-mimics-ranbir-kapoor-in-viral-video-fans-dub-him-bollywoods-next-superstar-9457081.html'], ['Saiyaara Songs', 'https://www.news18.com/movies/bollywood/saiyaara-song-hits-spotify-global-top-50-ananya-panday-urges-fans-to-make-it-no-1-9456842.html'], ['Radhika Merchant', 'https://www.news18.com/lifestyle/radhika-merchant-shloka-mehta-and-isha-ambani-serve-ethnic-glam-at-swadesh-store-launch-in-mumbai-9457240.html'], ['Mohit Suri Wife', 'https://www.news18.com/movies/bollywood/wife-udita-goswami-has-a-message-for-star-maker-mohit-suri-still-have-to-hang-your-wet-towel-ws-l-9456681.html'], ['Kannappa OTT Release', 'https://www.news18.com/movies/telugu-cinema/vishnu-manchus-kannappa-to-release-on-ott-heres-what-we-know-ws-l-aa-aa-9457441.html'], ['Latest News', 'https://www.news18.com/news/'], ['India', 'https://www.news18.com/india/'], ['Movies', 'https://www.news18.com/movies/'], ['World', 'https://www.news18.com/world/'], ['Politics', 'https://www.news18.com/politics/'], ['Viral', 'https://www.news18.com/viral/'], ['Auto', 'https://www.news18.com/auto/'], ['Tech', 'https://www.news18.com/tech/'], ['Videos', 'https://www.news18.com/videos/'], ['Photos', 'https://www.news18.com/photogallery/'], ['Web Stories', 'https://www.news18.com/web-stories/'], ['Cricket', 'https://www.news18.com/cricket/'], ['Explainers', 'https://www.news18.com/explainers/'], ['Showsha', 'https://www.news18.com/entertainment/'], ['Opinion', 'https://www.news18.com/opinion/'], ['Lifestyle', 'https://www.news18.com/lifestyle/'], ['Business', 'https://www.news18.com/business/'], ['Education-Career', 'https://www.news18.com/education-career/'], ['Sports', 'https://www.news18.com/sports/'], ['City News', 'https://www.news18.com/cities/'], ['Elections', 'https://www.news18.com/elections/'], ['Marathi News', 'https://news18marathi.com/'], ['Gujarati News', 'https://gujarati.news18.com/'], ['Bengali News', 'https://bengali.news18.com/'], ['Tamil News', 'https://tamil.news18.com/'], ['Telugu News', 'https://telugu.news18.com/'], ['Malayalam News', 'https://malayalam.news18.com/'], ['Punjabi News', 'https://punjab.news18.com/'], ['Urdu News', 'https://urdu.news18.com/'], ['Assam News', 'https://assam.news18.com/'], ['Odia News', 'https://odia.news18.com/'], ['Kannada News', 'https://kannada.news18.com/'], ['Moneycontrol', 'https://www.moneycontrol.com/'], ['Firstpost', 'https://www.firstpost.com/'], ['CNBCTV18', 'https://www.cnbctv18.com/'], ['History India', 'https://www.historyindia.com/'], ['MTV India', 'https://www.mtvindia.com/'], ['About Us', 'https://www.news18.com/about_us/'], ['Cookie Policy', 'https://www.news18.com/cookie-policy.html'], ['Disclaimer', 'https://www.news18.com/disclaimer/'], ['Contact Us', 'https://www.news18.com/contact-us.html'], ['RSS', 'https://www.news18.com/rss/'], ['Complaint Redressal', 'https://www.news18.com/complaint/'], ['Advertise with Us', 'https://www.news18.com/advertise-with-us.html'], ['Sitemap', 'https://www.news18.com/sitemap/'], ['Privacy Policy', 'https://www.news18.com/privacy_policy/']]\n"
     ]
    }
   ],
   "source": [
    "list_items = soup.find_all(\"li\")\n",
    "\n",
    "news_data = []\n",
    "\n",
    "for item in list_items:\n",
    "    a_tag = item.find(\"a\")\n",
    "    if a_tag:\n",
    "        title = a_tag.get_text(strip=True)\n",
    "        link = a_tag.get(\"href\")\n",
    "\n",
    "        if link and not link.startswith(\"http\"):\n",
    "            link = \"https://www.news18.com\" + link\n",
    "\n",
    "        if title and link:\n",
    "            news_data.append([title, link])\n",
    "\n",
    "print(news_data)"
   ]
  },
  {
   "cell_type": "code",
   "execution_count": 36,
   "id": "0d56651b-afce-49ad-9eae-498634b0897f",
   "metadata": {},
   "outputs": [
    {
     "data": {
      "text/html": [
       "<div>\n",
       "<style scoped>\n",
       "    .dataframe tbody tr th:only-of-type {\n",
       "        vertical-align: middle;\n",
       "    }\n",
       "\n",
       "    .dataframe tbody tr th {\n",
       "        vertical-align: top;\n",
       "    }\n",
       "\n",
       "    .dataframe thead th {\n",
       "        text-align: right;\n",
       "    }\n",
       "</style>\n",
       "<table border=\"1\" class=\"dataframe\">\n",
       "  <thead>\n",
       "    <tr style=\"text-align: right;\">\n",
       "      <th></th>\n",
       "      <th>Title</th>\n",
       "      <th>Link</th>\n",
       "    </tr>\n",
       "  </thead>\n",
       "  <tbody>\n",
       "    <tr>\n",
       "      <th>0</th>\n",
       "      <td>हिन्दी(Hindi)</td>\n",
       "      <td>https://hindi.news18.com/</td>\n",
       "    </tr>\n",
       "    <tr>\n",
       "      <th>1</th>\n",
       "      <td>বাংলা(Bengali)</td>\n",
       "      <td>https://bengali.news18.com/</td>\n",
       "    </tr>\n",
       "    <tr>\n",
       "      <th>2</th>\n",
       "      <td>मराठी(Marathi)</td>\n",
       "      <td>https://news18marathi.com/</td>\n",
       "    </tr>\n",
       "    <tr>\n",
       "      <th>3</th>\n",
       "      <td>ગુજરાતી(Gujarati)</td>\n",
       "      <td>https://gujarati.news18.com/</td>\n",
       "    </tr>\n",
       "    <tr>\n",
       "      <th>4</th>\n",
       "      <td>ಕನ್ನಡ(Kannada)</td>\n",
       "      <td>https://kannada.news18.com/</td>\n",
       "    </tr>\n",
       "  </tbody>\n",
       "</table>\n",
       "</div>"
      ],
      "text/plain": [
       "               Title                          Link\n",
       "0      हिन्दी(Hindi)     https://hindi.news18.com/\n",
       "1     বাংলা(Bengali)   https://bengali.news18.com/\n",
       "2     मराठी(Marathi)    https://news18marathi.com/\n",
       "3  ગુજરાતી(Gujarati)  https://gujarati.news18.com/\n",
       "4     ಕನ್ನಡ(Kannada)   https://kannada.news18.com/"
      ]
     },
     "execution_count": 36,
     "metadata": {},
     "output_type": "execute_result"
    }
   ],
   "source": [
    "# Create DataFrame\n",
    "df = pd.DataFrame(news_data, columns=[\"Title\", \"Link\"])\n",
    "\n",
    "# Save to CSV\n",
    "df.to_csv(\"news18_local_html.csv\", index=False, encoding=\"utf-8\")\n",
    "\n",
    "# Show top 5 rows\n",
    "df.head()"
   ]
  },
  {
   "cell_type": "code",
   "execution_count": null,
   "id": "a861c23f-130f-4bd5-97f9-b939b981e6b2",
   "metadata": {},
   "outputs": [],
   "source": []
  },
  {
   "cell_type": "code",
   "execution_count": null,
   "id": "79172b5a-688e-4906-9aaf-0dbfc7e90b63",
   "metadata": {},
   "outputs": [],
   "source": []
  }
 ],
 "metadata": {
  "kernelspec": {
   "display_name": "Python 3 (ipykernel)",
   "language": "python",
   "name": "python3"
  },
  "language_info": {
   "codemirror_mode": {
    "name": "ipython",
    "version": 3
   },
   "file_extension": ".py",
   "mimetype": "text/x-python",
   "name": "python",
   "nbconvert_exporter": "python",
   "pygments_lexer": "ipython3",
   "version": "3.13.5"
  }
 },
 "nbformat": 4,
 "nbformat_minor": 5
}
