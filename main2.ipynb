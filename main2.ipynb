{
 "cells": [
  {
   "cell_type": "code",
   "execution_count": 1,
   "id": "2bf8b12e-dba6-4d3a-9583-69693c87c974",
   "metadata": {},
   "outputs": [
    {
     "data": {
      "text/html": [
       "<div>\n",
       "<style scoped>\n",
       "    .dataframe tbody tr th:only-of-type {\n",
       "        vertical-align: middle;\n",
       "    }\n",
       "\n",
       "    .dataframe tbody tr th {\n",
       "        vertical-align: top;\n",
       "    }\n",
       "\n",
       "    .dataframe thead th {\n",
       "        text-align: right;\n",
       "    }\n",
       "</style>\n",
       "<table border=\"1\" class=\"dataframe\">\n",
       "  <thead>\n",
       "    <tr style=\"text-align: right;\">\n",
       "      <th></th>\n",
       "      <th>Title</th>\n",
       "      <th>Link</th>\n",
       "    </tr>\n",
       "  </thead>\n",
       "  <tbody>\n",
       "    <tr>\n",
       "      <th>0</th>\n",
       "      <td>‘Diplomat’ Of Nowhere: How One Man Turned A Gh...</td>\n",
       "      <td>https://www.news18.com/india/diplomat-of-nowhe...</td>\n",
       "    </tr>\n",
       "    <tr>\n",
       "      <th>1</th>\n",
       "      <td>IndiGo Flight From Ahmedabad Catches Fire Befo...</td>\n",
       "      <td>https://www.news18.com/india/indigo-flight-fro...</td>\n",
       "    </tr>\n",
       "    <tr>\n",
       "      <th>2</th>\n",
       "      <td>India Vs England Live Score Updates, 4th Test ...</td>\n",
       "      <td>https://www.news18.com/cricket/ind-vs-eng-live...</td>\n",
       "    </tr>\n",
       "    <tr>\n",
       "      <th>3</th>\n",
       "      <td>Tanushree Dutta Makes SHOCKING Allegations, Cl...</td>\n",
       "      <td>https://www.news18.com/movies/bollywood/tanush...</td>\n",
       "    </tr>\n",
       "    <tr>\n",
       "      <th>4</th>\n",
       "      <td>'Positive Move': India Set To Resume Tourist V...</td>\n",
       "      <td>https://www.news18.com/india/india-to-resume-i...</td>\n",
       "    </tr>\n",
       "  </tbody>\n",
       "</table>\n",
       "</div>"
      ],
      "text/plain": [
       "                                               Title  \\\n",
       "0  ‘Diplomat’ Of Nowhere: How One Man Turned A Gh...   \n",
       "1  IndiGo Flight From Ahmedabad Catches Fire Befo...   \n",
       "2  India Vs England Live Score Updates, 4th Test ...   \n",
       "3  Tanushree Dutta Makes SHOCKING Allegations, Cl...   \n",
       "4  'Positive Move': India Set To Resume Tourist V...   \n",
       "\n",
       "                                                Link  \n",
       "0  https://www.news18.com/india/diplomat-of-nowhe...  \n",
       "1  https://www.news18.com/india/indigo-flight-fro...  \n",
       "2  https://www.news18.com/cricket/ind-vs-eng-live...  \n",
       "3  https://www.news18.com/movies/bollywood/tanush...  \n",
       "4  https://www.news18.com/india/india-to-resume-i...  "
      ]
     },
     "execution_count": 1,
     "metadata": {},
     "output_type": "execute_result"
    }
   ],
   "source": [
    "from bs4 import BeautifulSoup\n",
    "import pandas as pd\n",
    "\n",
    "# Load local HTML\n",
    "with open(\"htmls/page1.html\", \"r\", encoding=\"utf-8\") as file:\n",
    "    soup = BeautifulSoup(file.read(), \"html.parser\")\n",
    "\n",
    "# Step 1: Find all h3 tags\n",
    "h3_tags = soup.find_all(\"h3\")\n",
    "\n",
    "news_data = []\n",
    "\n",
    "# Step 2: Get <a> inside <h3> only\n",
    "for h3 in h3_tags:\n",
    "    a_tag = h3.find(\"a\")\n",
    "    if a_tag:\n",
    "        title = a_tag.get_text(strip=True)\n",
    "        link = a_tag.get(\"href\")\n",
    "        if link and not link.startswith(\"http\"):\n",
    "            link = \"https://www.news18.com\" + link\n",
    "        news_data.append([title, link])\n",
    "\n",
    "# Step 3: Create DataFrame and save\n",
    "df = pd.DataFrame(news_data, columns=[\"Title\", \"Link\"])\n",
    "df.to_csv(\"news18_headlines_h3.csv\", index=False, encoding=\"utf-8\")\n",
    "\n",
    "df.head()\n"
   ]
  },
  {
   "cell_type": "code",
   "execution_count": 2,
   "id": "eda0619c-1986-490e-adfb-474f2a162ded",
   "metadata": {},
   "outputs": [
    {
     "name": "stdout",
     "output_type": "stream",
     "text": [
      "initializing Your Project........\n"
     ]
    },
    {
     "ename": "NameError",
     "evalue": "name 'pyttsx3' is not defined",
     "output_type": "error",
     "traceback": [
      "\u001b[1;31m---------------------------------------------------------------------------\u001b[0m",
      "\u001b[1;31mNameError\u001b[0m                                 Traceback (most recent call last)",
      "Cell \u001b[1;32mIn[2], line 29\u001b[0m\n\u001b[0;32m     26\u001b[0m kit\u001b[38;5;241m.\u001b[39msendwhatmsg_instantly(your_number, message, wait_time\u001b[38;5;241m=\u001b[39m\u001b[38;5;241m15\u001b[39m, tab_close\u001b[38;5;241m=\u001b[39m\u001b[38;5;28;01mTrue\u001b[39;00m)\n\u001b[0;32m     28\u001b[0m \u001b[38;5;66;03m# Convert text to voice\u001b[39;00m\n\u001b[1;32m---> 29\u001b[0m engine \u001b[38;5;241m=\u001b[39m pyttsx3\u001b[38;5;241m.\u001b[39minit()\n\u001b[0;32m     30\u001b[0m engine\u001b[38;5;241m.\u001b[39msetProperty(\u001b[38;5;124m'\u001b[39m\u001b[38;5;124mrate\u001b[39m\u001b[38;5;124m'\u001b[39m, \u001b[38;5;241m150\u001b[39m)  \u001b[38;5;66;03m# speed of speech\u001b[39;00m\n\u001b[0;32m     31\u001b[0m engine\u001b[38;5;241m.\u001b[39msay(voice_text)\n",
      "\u001b[1;31mNameError\u001b[0m: name 'pyttsx3' is not defined"
     ]
    }
   ],
   "source": [
    "print(\"initializing Your Project........\")\n",
    "\n",
    "import pywhatkit as kit\n",
    "import pandas as pd\n",
    "import datetime\n",
    "\n",
    "\n",
    "df = pd.read_csv(\"news18_headlines_h3.csv\")\n",
    "random_news = df.sample(5)\n",
    "\n",
    "\n",
    "message = \"📰 *Top News Headlines:*\\n\\n\"\n",
    "for i, row in random_news.iterrows():\n",
    "    message += f\"{i+1}. {row['Title']}\\n🔗 {row['Link']}\\n\\n\"\n",
    "\n",
    "your_number = \"+917983026262\"\n",
    "\n",
    "# Send the message instantly (wait_time controls loading delay)\n",
    "kit.sendwhatmsg_instantly(your_number, message, wait_time=15, tab_close=True)\n"
   ]
  },
  {
   "cell_type": "code",
   "execution_count": 13,
   "id": "5ac0822c-245d-4513-b7c3-495ec9e1dfc8",
   "metadata": {},
   "outputs": [
    {
     "name": "stdout",
     "output_type": "stream",
     "text": [
      "✅ Saved offline voice as 'news_voice_offline.mp3'\n"
     ]
    }
   ],
   "source": [
    "import pandas as pd\n",
    "import random\n",
    "import pyttsx3\n",
    "\n",
    "# Load headlines\n",
    "df = pd.read_csv(\"news18_headlines_h3.csv\")\n",
    "sample = df.sample(5)\n",
    "\n",
    "# Create voice text\n",
    "voice_text = \"Today's top five news headlines are: \"\n",
    "for i, row in enumerate(sample.itertuples(), 1):\n",
    "    voice_text += f\"{i}. {row.Title}. \"\n",
    "\n",
    "# Convert to voice using pyttsx3\n",
    "engine = pyttsx3.init()\n",
    "engine.setProperty('rate', 150)  # Speech speed\n",
    "\n",
    "# Save to audio file\n",
    "engine.save_to_file(voice_text, 'news_voice_offline.mp3')\n",
    "engine.runAndWait()\n",
    "\n",
    "print(\"✅ Saved offline voice as 'news_voice_offline.mp3'\")\n"
   ]
  },
  {
   "cell_type": "code",
   "execution_count": 33,
   "id": "42c20d2d-cdf5-43b6-8d2a-b7d6e6c78c0a",
   "metadata": {},
   "outputs": [
    {
     "name": "stdout",
     "output_type": "stream",
     "text": [
      "Choose method:\n",
      "1. Automatic sending (may have compatibility issues)\n",
      "2. Semi-automatic (opens chat, you send manually)\n"
     ]
    },
    {
     "name": "stdin",
     "output_type": "stream",
     "text": [
      "Enter choice (1 or 2):  2\n"
     ]
    },
    {
     "name": "stdout",
     "output_type": "stream",
     "text": [
      "Please scan the QR code...\n"
     ]
    },
    {
     "name": "stdin",
     "output_type": "stream",
     "text": [
      "Press Enter after scanning QR code... \n"
     ]
    },
    {
     "name": "stdout",
     "output_type": "stream",
     "text": [
      "Chat opened with +917983026262\n",
      "Now manually:\n",
      "1. Click the attachment (📎) button\n",
      "2. Select 'Document'\n",
      "3. Choose your MP3 file\n",
      "4. Add caption if needed\n",
      "5. Press Send\n"
     ]
    },
    {
     "name": "stdin",
     "output_type": "stream",
     "text": [
      "Press Enter when done to close browser... \n"
     ]
    }
   ],
   "source": [
    "from selenium import webdriver\n",
    "from selenium.webdriver.common.by import By\n",
    "from selenium.webdriver.common.keys import Keys\n",
    "from selenium.webdriver.support.ui import WebDriverWait\n",
    "from selenium.webdriver.support import expected_conditions as EC\n",
    "from selenium.webdriver.chrome.options import Options\n",
    "from selenium.webdriver.chrome.service import Service\n",
    "from webdriver_manager.chrome import ChromeDriverManager\n",
    "import time\n",
    "\n",
    "def send_mp3_whatsapp(phone_number, file_path, message=\"\"):\n",
    "    # Setup Chrome options\n",
    "    chrome_options = Options()\n",
    "    chrome_options.add_argument(\"--no-sandbox\")\n",
    "    chrome_options.add_argument(\"--disable-dev-shm-usage\")\n",
    "    chrome_options.add_argument(\"--disable-gpu\")\n",
    "    chrome_options.add_argument(\"--remote-debugging-port=9222\")\n",
    "    \n",
    "    # Use webdriver-manager to automatically handle ChromeDriver\n",
    "    service = Service(ChromeDriverManager().install())\n",
    "    \n",
    "    try:\n",
    "        driver = webdriver.Chrome(service=service, options=chrome_options)\n",
    "        driver.get(\"https://web.whatsapp.com\")\n",
    "        \n",
    "        print(\"Please scan the QR code...\")\n",
    "        input(\"Press Enter after scanning QR code and WhatsApp Web loads completely...\")\n",
    "        \n",
    "        # Wait for WhatsApp to load completely\n",
    "        WebDriverWait(driver, 30).until(\n",
    "            EC.presence_of_element_located((By.XPATH, \"//div[@contenteditable='true'][@data-tab='3']\"))\n",
    "        )\n",
    "        \n",
    "        # Search for contact\n",
    "        search_box = driver.find_element(By.XPATH, \"//div[@contenteditable='true'][@data-tab='3']\")\n",
    "        search_box.click()\n",
    "        search_box.clear()\n",
    "        search_box.send_keys(phone_number)\n",
    "        time.sleep(2)\n",
    "        \n",
    "        # Click on the contact\n",
    "        contact = WebDriverWait(driver, 10).until(\n",
    "            EC.element_to_be_clickable((By.XPATH, f\"//span[@title='{phone_number}']\"))\n",
    "        )\n",
    "        contact.click()\n",
    "        \n",
    "        time.sleep(2)\n",
    "        \n",
    "        # Click attachment button\n",
    "        attach_btn = WebDriverWait(driver, 10).until(\n",
    "            EC.element_to_be_clickable((By.XPATH, \"//div[@title='Attach']\"))\n",
    "        )\n",
    "        attach_btn.click()\n",
    "        \n",
    "        # Click document option\n",
    "        doc_input = WebDriverWait(driver, 10).until(\n",
    "            EC.presence_of_element_located((By.XPATH, \"//input[@accept='*']\"))\n",
    "        )\n",
    "        doc_input.send_keys(file_path)\n",
    "        \n",
    "        time.sleep(5)  # Wait for file to upload\n",
    "        \n",
    "        # Add caption if provided\n",
    "        if message:\n",
    "            try:\n",
    "                caption_box = driver.find_element(By.XPATH, \"//div[@contenteditable='true'][@data-tab='10']\")\n",
    "                caption_box.send_keys(message)\n",
    "            except:\n",
    "                print(\"Could not add caption, but file will be sent\")\n",
    "        \n",
    "        # Click send button\n",
    "        send_btn = WebDriverWait(driver, 15).until(\n",
    "            EC.element_to_be_clickable((By.XPATH, \"//span[@data-icon='send']\"))\n",
    "        )\n",
    "        send_btn.click()\n",
    "        \n",
    "        print(\"File sent successfully!\")\n",
    "        time.sleep(3)\n",
    "        \n",
    "    except Exception as e:\n",
    "        print(f\"Error occurred: {e}\")\n",
    "        print(\"Please try the manual method below\")\n",
    "        \n",
    "    finally:\n",
    "        if 'driver' in locals():\n",
    "            driver.quit()\n",
    "\n",
    "# Alternative Method: Manual sending with automation help\n",
    "def open_whatsapp_for_manual_send(phone_number):\n",
    "    chrome_options = Options()\n",
    "    chrome_options.add_argument(\"--no-sandbox\")\n",
    "    service = Service(ChromeDriverManager().install())\n",
    "    \n",
    "    try:\n",
    "        driver = webdriver.Chrome(service=service, options=chrome_options)\n",
    "        driver.get(\"https://web.whatsapp.com\")\n",
    "        \n",
    "        print(\"Please scan the QR code...\")\n",
    "        input(\"Press Enter after scanning QR code...\")\n",
    "        \n",
    "        # Search for contact\n",
    "        search_box = WebDriverWait(driver, 30).until(\n",
    "            EC.presence_of_element_located((By.XPATH, \"//div[@contenteditable='true'][@data-tab='3']\"))\n",
    "        )\n",
    "        search_box.click()\n",
    "        search_box.send_keys(phone_number)\n",
    "        time.sleep(2)\n",
    "        search_box.send_keys(Keys.ENTER)\n",
    "        \n",
    "        print(f\"Chat opened with {phone_number}\")\n",
    "        print(\"Now manually:\")\n",
    "        print(\"1. Click the attachment (📎) button\")\n",
    "        print(\"2. Select 'Document'\")\n",
    "        print(\"3. Choose your MP3 file\")\n",
    "        print(\"4. Add caption if needed\")\n",
    "        print(\"5. Press Send\")\n",
    "        \n",
    "        input(\"Press Enter when done to close browser...\")\n",
    "        \n",
    "    except Exception as e:\n",
    "        print(f\"Error: {e}\")\n",
    "    finally:\n",
    "        if 'driver' in locals():\n",
    "            driver.quit()\n",
    "\n",
    "if __name__ == \"__main__\":\n",
    "    phone_number = \"+917983026262\"\n",
    "    file_path = r\"C:\\Users\\Utkarsh Dimri\\OneDrive\\Desktop\\pynews\\news_voice_offline.mp3\"\n",
    "    message = \"Here's the audio file\"\n",
    "    \n",
    "    print(\"Choose method:\")\n",
    "    print(\"1. Automatic sending (may have compatibility issues)\")\n",
    "    print(\"2. Semi-automatic (opens chat, you send manually)\")\n",
    "    \n",
    "    choice = input(\"Enter choice (1 or 2): \")\n",
    "    \n",
    "    if choice == \"1\":\n",
    "        send_mp3_whatsapp(phone_number, file_path, message)\n",
    "    else:\n",
    "        open_whatsapp_for_manual_send(phone_number)"
   ]
  },
  {
   "cell_type": "code",
   "execution_count": 34,
   "id": "12ca6cdb-d2e3-4d49-97b1-195714608541",
   "metadata": {},
   "outputs": [
    {
     "ename": "TypeError",
     "evalue": "sendwhats_image() got an unexpected keyword argument 'phone_no'",
     "output_type": "error",
     "traceback": [
      "\u001b[1;31m---------------------------------------------------------------------------\u001b[0m",
      "\u001b[1;31mTypeError\u001b[0m                                 Traceback (most recent call last)",
      "Cell \u001b[1;32mIn[34], line 5\u001b[0m\n\u001b[0;32m      2\u001b[0m \u001b[38;5;28;01mimport\u001b[39;00m\u001b[38;5;250m \u001b[39m\u001b[38;5;21;01mos\u001b[39;00m\n\u001b[0;32m      4\u001b[0m \u001b[38;5;66;03m# Send media file\u001b[39;00m\n\u001b[1;32m----> 5\u001b[0m pywhatkit\u001b[38;5;241m.\u001b[39msendwhats_image(\n\u001b[0;32m      6\u001b[0m     phone_no\u001b[38;5;241m=\u001b[39m\u001b[38;5;124m\"\u001b[39m\u001b[38;5;124m+917983026262\u001b[39m\u001b[38;5;124m\"\u001b[39m,  \u001b[38;5;66;03m# Include country code\u001b[39;00m\n\u001b[0;32m      7\u001b[0m     img_path\u001b[38;5;241m=\u001b[39m\u001b[38;5;124mr\u001b[39m\u001b[38;5;124m\"\u001b[39m\u001b[38;5;124mC:\u001b[39m\u001b[38;5;124m\\\u001b[39m\u001b[38;5;124mUsers\u001b[39m\u001b[38;5;124m\\\u001b[39m\u001b[38;5;124mUtkarsh Dimri\u001b[39m\u001b[38;5;124m\\\u001b[39m\u001b[38;5;124mOneDrive\u001b[39m\u001b[38;5;124m\\\u001b[39m\u001b[38;5;124mDesktop\u001b[39m\u001b[38;5;124m\\\u001b[39m\u001b[38;5;124mpynews/news_voice_offline.mp3\u001b[39m\u001b[38;5;124m\"\u001b[39m,\n\u001b[0;32m      8\u001b[0m     caption\u001b[38;5;241m=\u001b[39m\u001b[38;5;124m\"\u001b[39m\u001b[38;5;124mHere\u001b[39m\u001b[38;5;124m'\u001b[39m\u001b[38;5;124ms your audio file!\u001b[39m\u001b[38;5;124m\"\u001b[39m,\n\u001b[0;32m      9\u001b[0m     wait_time\u001b[38;5;241m=\u001b[39m\u001b[38;5;241m20\u001b[39m,\n\u001b[0;32m     10\u001b[0m     tab_close\u001b[38;5;241m=\u001b[39m\u001b[38;5;28;01mTrue\u001b[39;00m\n\u001b[0;32m     11\u001b[0m )\n",
      "\u001b[1;31mTypeError\u001b[0m: sendwhats_image() got an unexpected keyword argument 'phone_no'"
     ]
    }
   ],
   "source": [
    "import pywhatkit\n",
    "import os\n",
    "\n",
    "# Send media file\n",
    "pywhatkit.sendwhats_image(\n",
    "    phone_no=\"+917983026262\",  # Include country code\n",
    "    img_path=r\"C:\\Users\\Utkarsh Dimri\\OneDrive\\Desktop\\pynews/news_voice_offline.mp3\",\n",
    "    caption=\"Here's your audio file!\",\n",
    "    wait_time=20,\n",
    "    tab_close=True\n",
    ")\n"
   ]
  },
  {
   "cell_type": "code",
   "execution_count": null,
   "id": "6c159ed0-ce68-4381-9a18-d26a65307d21",
   "metadata": {},
   "outputs": [],
   "source": []
  }
 ],
 "metadata": {
  "kernelspec": {
   "display_name": "Python 3 (ipykernel)",
   "language": "python",
   "name": "python3"
  },
  "language_info": {
   "codemirror_mode": {
    "name": "ipython",
    "version": 3
   },
   "file_extension": ".py",
   "mimetype": "text/x-python",
   "name": "python",
   "nbconvert_exporter": "python",
   "pygments_lexer": "ipython3",
   "version": "3.13.5"
  }
 },
 "nbformat": 4,
 "nbformat_minor": 5
}
